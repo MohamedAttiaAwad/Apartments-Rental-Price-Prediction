{
 "cells": [
  {
   "cell_type": "code",
   "execution_count": 45,
   "metadata": {},
   "outputs": [],
   "source": [
    "from bs4 import BeautifulSoup\n",
    "import urllib.request\n",
    "import pandas as pd\n",
    "import time\n",
    "from requests import get\n",
    "import os\n"
   ]
  },
  {
   "cell_type": "code",
   "execution_count": 32,
   "metadata": {},
   "outputs": [],
   "source": [
    "BASE_URL='https://sa.aqar.fm'\n",
    "LIST_URL='https://sa.aqar.fm/شقق للإيجار/1'\n",
    "hdr = {'User-Agent': 'Mozilla/5.0 (X11; Linux x86_64) AppleWebKit/537.11 (KHTML, like Gecko) Chrome/23.0.1271.64 Safari/537.11',\n",
    "         'Accept': 'text/html,application/xhtml+xml,application/xml;q=0.9,*/*;q=0.8',\n",
    "         'Referer': 'https://cssspritegenerator.com',\n",
    "         'Accept-Charset': 'ISO-8859-1,utf-8;q=0.7,*;q=0.3',\n",
    "         'Accept-Encoding': 'none',\n",
    "         'Accept-Language': 'en-US,en;q=0.8'}"
   ]
  },
  {
   "cell_type": "code",
   "execution_count": 58,
   "metadata": {},
   "outputs": [
    {
     "name": "stdout",
     "output_type": "stream",
     "text": [
      "Reading page 2\n"
     ]
    }
   ],
   "source": [
    "#the no. of pages this list has\n",
    "num_pages=3\n",
    "Apartments={'URL':[]}\n",
    "\n",
    "for i in range(2, num_pages):\n",
    "    #time.sleep(120) #make sure you give enough time between page loads to avoid server overload\n",
    "    print(f'Reading page {i}')\n",
    "    list_page_url=f'https://sa.aqar.fm/شقق-للإيجار/{i}'\n",
    "    list_page=get(list_page_url, headers=hdr)\n",
    "    list_soup = BeautifulSoup(list_page.content, 'html.parser')    \n",
    "    list_item = list_soup.find_all('div',{\"class\": \"listItem\"}) \n",
    "\n",
    "    divs = list_soup.findAll(class_= 'listItem')\n",
    "    for div in divs:\n",
    "        url= BASE_URL+div.find('a', attrs={'class':'listTitle'}).attrs['href']\n",
    "        Apartments['URL'] += [url]\n",
    "    \n",
    "    apartment_df=pd.DataFrame.from_dict(Apartments)\n",
    "    apartment_df.to_csv('apartments.csv')\n",
    "    "
   ]
  },
  {
   "cell_type": "markdown",
   "metadata": {},
   "source": [
    "# Data collection"
   ]
  },
  {
   "cell_type": "code",
   "execution_count": 94,
   "metadata": {},
   "outputs": [
    {
     "ename": "NameError",
     "evalue": "name 'book_rows' is not defined",
     "output_type": "error",
     "traceback": [
      "\u001b[1;31m---------------------------------------------------------------------------\u001b[0m",
      "\u001b[1;31mAttributeError\u001b[0m                            Traceback (most recent call last)",
      "\u001b[1;32m<ipython-input-94-aea48c413f17>\u001b[0m in \u001b[0;36m<module>\u001b[1;34m\u001b[0m\n\u001b[0;32m     33\u001b[0m         \u001b[1;32mif\u001b[0m \u001b[0mdc_detailsTable\u001b[0m\u001b[1;33m:\u001b[0m\u001b[1;33m\u001b[0m\u001b[1;33m\u001b[0m\u001b[0m\n\u001b[1;32m---> 34\u001b[1;33m             \u001b[0mprint\u001b[0m\u001b[1;33m(\u001b[0m\u001b[0mdc_detailsTable\u001b[0m\u001b[1;33m.\u001b[0m\u001b[0mtext\u001b[0m\u001b[1;33m)\u001b[0m\u001b[1;33m\u001b[0m\u001b[1;33m\u001b[0m\u001b[0m\n\u001b[0m\u001b[0;32m     35\u001b[0m             \u001b[0mprint\u001b[0m\u001b[1;33m(\u001b[0m\u001b[0mdc_detailsTable\u001b[0m\u001b[1;33m.\u001b[0m\u001b[0mnext_element\u001b[0m\u001b[1;33m)\u001b[0m\u001b[1;33m\u001b[0m\u001b[1;33m\u001b[0m\u001b[0m\n",
      "\u001b[1;32m~\\Anaconda3\\lib\\site-packages\\bs4\\element.py\u001b[0m in \u001b[0;36m__getattr__\u001b[1;34m(self, attr)\u001b[0m\n\u001b[0;32m    741\u001b[0m                 \"'%s' object has no attribute '%s'\" % (\n\u001b[1;32m--> 742\u001b[1;33m                     self.__class__.__name__, attr))\n\u001b[0m\u001b[0;32m    743\u001b[0m \u001b[1;33m\u001b[0m\u001b[0m\n",
      "\u001b[1;31mAttributeError\u001b[0m: 'NavigableString' object has no attribute 'text'",
      "\nDuring handling of the above exception, another exception occurred:\n",
      "\u001b[1;31mNameError\u001b[0m                                 Traceback (most recent call last)",
      "\u001b[1;32m<ipython-input-94-aea48c413f17>\u001b[0m in \u001b[0;36m<module>\u001b[1;34m\u001b[0m\n\u001b[0;32m    104\u001b[0m         \u001b[1;31m#    book_rows=[]\u001b[0m\u001b[1;33m\u001b[0m\u001b[1;33m\u001b[0m\u001b[1;33m\u001b[0m\u001b[0m\n\u001b[0;32m    105\u001b[0m     \u001b[1;32mexcept\u001b[0m\u001b[1;33m:\u001b[0m\u001b[1;33m\u001b[0m\u001b[1;33m\u001b[0m\u001b[0m\n\u001b[1;32m--> 106\u001b[1;33m         \u001b[0mapartment_data\u001b[0m\u001b[1;33m.\u001b[0m\u001b[0mappend\u001b[0m\u001b[1;33m(\u001b[0m\u001b[0mpd\u001b[0m\u001b[1;33m.\u001b[0m\u001b[0mDataFrame\u001b[0m\u001b[1;33m.\u001b[0m\u001b[0mfrom_dict\u001b[0m\u001b[1;33m(\u001b[0m\u001b[0mbook_rows\u001b[0m\u001b[1;33m)\u001b[0m\u001b[1;33m)\u001b[0m\u001b[1;33m.\u001b[0m\u001b[0mto_csv\u001b[0m\u001b[1;33m(\u001b[0m\u001b[1;34m'book_data.csv'\u001b[0m\u001b[1;33m,\u001b[0m \u001b[0mindex\u001b[0m\u001b[1;33m=\u001b[0m\u001b[1;32mFalse\u001b[0m\u001b[1;33m)\u001b[0m\u001b[1;33m\u001b[0m\u001b[1;33m\u001b[0m\u001b[0m\n\u001b[0m\u001b[0;32m    107\u001b[0m         \u001b[0mapartment_rows\u001b[0m\u001b[1;33m=\u001b[0m\u001b[1;33m[\u001b[0m\u001b[1;33m]\u001b[0m\u001b[1;33m\u001b[0m\u001b[1;33m\u001b[0m\u001b[0m\n",
      "\u001b[1;31mNameError\u001b[0m: name 'book_rows' is not defined"
     ]
    }
   ],
   "source": [
    "if not os.path.exists('apartment_data.csv'):\n",
    "    apartment_data=pd.DataFrame(columns=[\n",
    "        'apartment_price'\n",
    "        'apartment_category',\n",
    "        'apartment_bedrooms',\n",
    "        'apartment_livingroom',\n",
    "        'apartment_bathroom',\n",
    "        'apartment_livingroom',\n",
    "        'apartment_floor',\n",
    "        'building_age',\n",
    "        'apartment_kitchen',\n",
    "        'apartment_aircondition',\n",
    "        'apartment_elevator'\n",
    "        ])\n",
    "    \n",
    "apartment_data.to_csv('apartment_data.csv')\n",
    "apartments=pd.read_csv('apartments.csv')\n",
    "apartment_data=pd.read_csv('apartment_data.csv')\n",
    "\n",
    "\n",
    "for i in range(len(apartment_data), 10):\n",
    "    #time.sleep(60)\n",
    "    try:\n",
    "        apartment_URL=apartments.at[i, 'URL']\n",
    "        apartment_page=get(apartment_URL)\n",
    "        \n",
    "        apartment_soup=BeautifulSoup(apartment_page.content, 'html.parser')        \n",
    "        apartment=dict()\n",
    "\n",
    "        #apartment_category\n",
    "        dc_detailsTable=apartment_soup.find('table', attrs={'class':'dc-detailsTable'}).next_element.next_element.next_element.next_element.next_element\n",
    "        \n",
    "        if dc_detailsTable:\n",
    "            print(dc_detailsTable.text)\n",
    "            print(dc_detailsTable.next_element)\n",
    "            apartment['book_title']=book_title.text.replace('\\n','').strip()\n",
    "        else:\n",
    "            apartment['book_title']=''\n",
    "        \n",
    "\n",
    "        #apartment_price \n",
    "        apartment_price = apartment_soup.find('span', attrs={'class':'listingPagePrice'}).next_element.next_element.next_element        \n",
    "        if apartment_price:\n",
    "            apartment['apartment_price']=apartment_price.text\n",
    "        else:\n",
    "            apartment['apartment_price']=''\n",
    "\n",
    "        #Author(s) of the book\n",
    "        #book['book_authors']='|'.join([a.find('span', attrs={'itemprop':'name'}).text for a in book_soup.find_all('a', attrs={'class':'authorName'})])\n",
    "        \n",
    "        #Rating given by users on goodreads\n",
    "        #book_rating=book_soup.find('span', attrs={'itemprop':'ratingValue'})\n",
    "        #if book_rating:\n",
    "        #    book['book_rating']=book_rating.text.replace('\\n','').strip()\n",
    "        #else:\n",
    "        #    book['book_rating']=''\n",
    "        #book['book_rating_count']=book_soup.find('meta', attrs={'itemprop':'ratingCount'})['content']\n",
    "\n",
    "        #No. of reviews for the book\n",
    "        #book['book_review_count']=book_soup.find('meta', attrs={'itemprop':'reviewCount'})['content']\n",
    "\n",
    "        #A short description of the book, usually found on the back or inside cover of the book. Also called a blurb\n",
    "        #book_desc=book_soup.find('div', attrs={'class':'readable stacked'})\n",
    "        #if book_desc:\n",
    "        #    book['book_desc']=book_desc.find_all('span')[-1].text\n",
    "        #else:\n",
    "        #    book['book_desc']=''\n",
    "\n",
    "        #Format of the book, e.g, paperback, hardcover, Kindle edition, etc.\n",
    "        #book_format=book_soup.find('div', attrs={'id':'details'}).find('span', attrs={'itemprop':'bookFormat'})\n",
    "        #if book_format:\n",
    "        #    book['book_format']=book_format.text\n",
    "        #else:\n",
    "        #    book['book_format']=''\n",
    "        \n",
    "        #Edition of the book\n",
    "        #book_edition=book_soup.find('div', attrs={'id':'details'}).find('span', attrs={'itemprop':'bookEdition'})\n",
    "        #if book_edition:\n",
    "        #    book['book_edition']=book_edition.text\n",
    "        #else:\n",
    "        #    book['book_edition']=''\n",
    "\n",
    "        #No. of pages in the book\n",
    "        #book_pages=book_soup.find('div', attrs={'id':'details'}).find('span', attrs={'itemprop':'numberOfPages'})\n",
    "        #if book_pages:\n",
    "        #    book['book_pages']=book_pages.text\n",
    "        #else:\n",
    "        #    book['book_pages']=''\n",
    "        \n",
    "        #ISBN code of the book\n",
    "        #book_isbn=book_soup.find('div', attrs={'id':'bookDataBox'}).find('span', attrs={'itemprop':'isbn'})\n",
    "        #if book_isbn:\n",
    "        #    book['book_isbn']=book_isbn.text\n",
    "        #else:\n",
    "        #    book['book_isbn']=''\n",
    "\n",
    "        #List of genres that the book belongs to. User supplied data.\n",
    "        #genres_list=book_soup.find_all('a', attrs={'class':'actionLinkLite bookPageGenreLink'})\n",
    "        #book['genres']='|'.join([i.text for i in genres_list])\n",
    "        #book_rows.append(book)\n",
    "\n",
    "        #if i%save_every==0:\n",
    "        #    book_data.append(pd.DataFrame.from_dict(book_rows)).to_csv('book_data.csv', index=False)\n",
    "        #    book_rows=[]\n",
    "    except:\n",
    "        apartment_data.append(pd.DataFrame.from_dict(book_rows)).to_csv('book_data.csv', index=False)\n",
    "        apartment_rows=[]\n"
   ]
  },
  {
   "cell_type": "code",
   "execution_count": null,
   "metadata": {},
   "outputs": [],
   "source": []
  }
 ],
 "metadata": {
  "kernelspec": {
   "display_name": "Python 3",
   "language": "python",
   "name": "python3"
  },
  "language_info": {
   "codemirror_mode": {
    "name": "ipython",
    "version": 3
   },
   "file_extension": ".py",
   "mimetype": "text/x-python",
   "name": "python",
   "nbconvert_exporter": "python",
   "pygments_lexer": "ipython3",
   "version": "3.6.8"
  }
 },
 "nbformat": 4,
 "nbformat_minor": 2
}
