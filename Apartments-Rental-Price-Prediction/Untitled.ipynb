{
 "cells": [
  {
   "cell_type": "code",
   "execution_count": null,
   "metadata": {},
   "outputs": [],
   "source": [
    "from bs4 import BeautifulSoup\n",
    "import urllib.request\n",
    "import pandas as pd\n",
    "import time\n",
    "from requests import get"
   ]
  },
  {
   "cell_type": "code",
   "execution_count": null,
   "metadata": {},
   "outputs": [],
   "source": [
    "BASE_URL='https://sa.aqar.fm/'\n",
    "LIST_URL='https://sa.aqar.fm/شقق للإيجار/1'\n",
    "hdr = {'User-Agent': 'Mozilla/5.0 (X11; Linux x86_64) AppleWebKit/537.11 (KHTML, like Gecko) Chrome/23.0.1271.64 Safari/537.11',\n",
    "         'Accept': 'text/html,application/xhtml+xml,application/xml;q=0.9,*/*;q=0.8',\n",
    "         'Referer': 'https://cssspritegenerator.com',\n",
    "         'Accept-Charset': 'ISO-8859-1,utf-8;q=0.7,*;q=0.3',\n",
    "         'Accept-Encoding': 'none',\n",
    "         'Accept-Language': 'en-US,en;q=0.8'}"
   ]
  },
  {
   "cell_type": "code",
   "execution_count": null,
   "metadata": {},
   "outputs": [],
   "source": [
    "print('test 01')\n",
    "#the no. of pages this list has\n",
    "num_pages=3\n",
    "Apartments={'URL':[]}\n",
    "\n",
    "for i in range(2, num_pages):\n",
    "    #time.sleep(120) #make sure you give enough time between page loads to avoid server overload\n",
    "    print(f'Reading page {i}')\n",
    "    list_page_url=f'https://sa.aqar.fm/شقق-للإيجار/{i}'\n",
    "    print(list_page_url)\n",
    "    list_page=get(list_page_url, headers=hdr)\n",
    "    print (list_page)\n",
    "    \n",
    "    list_soup = BeautifulSoup(list_page.content, 'html.parser')\n",
    "    \n",
    "    #test =  list_soup.find_all(\"div\", {\"class\": \"main-content col-centered main-content-width\"})\n",
    "    #print (test)\n",
    "    \n",
    "    #rows=book_table.find_all('tr')\n",
    "    #Apartments['URL']+=[BASE_URL+r.find('a', attrs={'class':'listTitle'}).attrs['href'] for r in rows]"
   ]
  },
  {
   "cell_type": "code",
   "execution_count": 16,
   "metadata": {},
   "outputs": [],
   "source": [
    "?get"
   ]
  },
  {
   "cell_type": "code",
   "execution_count": null,
   "metadata": {},
   "outputs": [],
   "source": [
    "print('test')"
   ]
  },
  {
   "cell_type": "code",
   "execution_count": null,
   "metadata": {},
   "outputs": [],
   "source": []
  }
 ],
 "metadata": {
  "kernelspec": {
   "display_name": "Python 3",
   "language": "python",
   "name": "python3"
  },
  "language_info": {
   "codemirror_mode": {
    "name": "ipython",
    "version": 3
   },
   "file_extension": ".py",
   "mimetype": "text/x-python",
   "name": "python",
   "nbconvert_exporter": "python",
   "pygments_lexer": "ipython3",
   "version": "3.6.8"
  }
 },
 "nbformat": 4,
 "nbformat_minor": 2
}
